{
 "cells": [
  {
   "cell_type": "code",
   "execution_count": 111,
   "id": "a872aa71",
   "metadata": {},
   "outputs": [],
   "source": [
    "from sqlalchemy import create_engine\n",
    "import os\n",
    "import mysql.connector\n",
    "import pandas as pd\n",
    "import numpy as np\n",
    "import matplotlib.pyplot as plt\n",
    "import seaborn as sns\n",
    "%matplotlib inline\n",
    "\n"
   ]
  },
  {
   "cell_type": "code",
   "execution_count": 112,
   "id": "93c49302",
   "metadata": {},
   "outputs": [],
   "source": [
    "User = os.environ.get('DB_User')\n",
    "Password = os.environ.get('DB_PASS')\n",
    "#def mysql_connection(host, user, passwd, database=None):\n",
    "#    engine = create_engine(f'mysql+pymysql://{user}:{passwd}@{host}/{database}')\n",
    "#    return engine.connect()\n"
   ]
  },
  {
   "cell_type": "code",
   "execution_count": 113,
   "id": "aa260b15",
   "metadata": {},
   "outputs": [],
   "source": [
    "#connection = mysql_connection('localhost', 'root', 'mysql123', 'dadosaocubo')\n",
    "#connection = mysql_connection('40b8f30251.nxcli.io', 'a4f2b49a_padawan', 'KaratFlanksUgliedSpinal', 'a4f2b49a_sample_database')\n",
    "\n",
    "connection = mysql.connector.connect(host='40b8f30251.nxcli.io',\n",
    "                                     database='a4f2b49a_sample_database',\n",
    "                                     user='a4f2b49a_padawan',\n",
    "                                     password= 'KaratFlanksUgliedSpinal')\n"
   ]
  },
  {
   "cell_type": "code",
   "execution_count": 114,
   "id": "9d68a444",
   "metadata": {},
   "outputs": [
    {
     "data": {
      "text/plain": [
       "<mysql.connector.connection_cext.CMySQLConnection at 0x22774c628b0>"
      ]
     },
     "execution_count": 114,
     "metadata": {},
     "output_type": "execute_result"
    }
   ],
   "source": [
    "connection"
   ]
  },
  {
   "cell_type": "code",
   "execution_count": 115,
   "id": "3eca613c",
   "metadata": {},
   "outputs": [],
   "source": [
    "raw_data_tables = pd.read_sql_query('show tables FROM a4f2b49a_sample_database ', connection)"
   ]
  },
  {
   "cell_type": "code",
   "execution_count": 106,
   "id": "4fe119d0",
   "metadata": {},
   "outputs": [
    {
     "data": {
      "text/html": [
       "<div>\n",
       "<style scoped>\n",
       "    .dataframe tbody tr th:only-of-type {\n",
       "        vertical-align: middle;\n",
       "    }\n",
       "\n",
       "    .dataframe tbody tr th {\n",
       "        vertical-align: top;\n",
       "    }\n",
       "\n",
       "    .dataframe thead th {\n",
       "        text-align: right;\n",
       "    }\n",
       "</style>\n",
       "<table border=\"1\" class=\"dataframe\">\n",
       "  <thead>\n",
       "    <tr style=\"text-align: right;\">\n",
       "      <th></th>\n",
       "      <th>Tables_in_a4f2b49a_sample_database</th>\n",
       "    </tr>\n",
       "  </thead>\n",
       "  <tbody>\n",
       "    <tr>\n",
       "      <th>0</th>\n",
       "      <td>raw_data</td>\n",
       "    </tr>\n",
       "  </tbody>\n",
       "</table>\n",
       "</div>"
      ],
      "text/plain": [
       "  Tables_in_a4f2b49a_sample_database\n",
       "0                           raw_data"
      ]
     },
     "execution_count": 106,
     "metadata": {},
     "output_type": "execute_result"
    }
   ],
   "source": [
    "raw_data_tables"
   ]
  },
  {
   "cell_type": "code",
   "execution_count": 116,
   "id": "a5ad2d0a",
   "metadata": {},
   "outputs": [
    {
     "name": "stderr",
     "output_type": "stream",
     "text": [
      "C:\\ProgramData\\Anaconda3\\lib\\site-packages\\pandas\\io\\sql.py:762: UserWarning: pandas only support SQLAlchemy connectable(engine/connection) ordatabase string URI or sqlite3 DBAPI2 connectionother DBAPI2 objects are not tested, please consider using SQLAlchemy\n",
      "  warnings.warn(\n"
     ]
    },
    {
     "data": {
      "text/html": [
       "<div>\n",
       "<style scoped>\n",
       "    .dataframe tbody tr th:only-of-type {\n",
       "        vertical-align: middle;\n",
       "    }\n",
       "\n",
       "    .dataframe tbody tr th {\n",
       "        vertical-align: top;\n",
       "    }\n",
       "\n",
       "    .dataframe thead th {\n",
       "        text-align: right;\n",
       "    }\n",
       "</style>\n",
       "<table border=\"1\" class=\"dataframe\">\n",
       "  <thead>\n",
       "    <tr style=\"text-align: right;\">\n",
       "      <th></th>\n",
       "      <th>datahora_acesso</th>\n",
       "      <th>clientes_id</th>\n",
       "      <th>modalidade</th>\n",
       "      <th>rake</th>\n",
       "    </tr>\n",
       "  </thead>\n",
       "  <tbody>\n",
       "    <tr>\n",
       "      <th>0</th>\n",
       "      <td>2021-03-15T17:00:00</td>\n",
       "      <td>9467</td>\n",
       "      <td>Torneio</td>\n",
       "      <td>1.00</td>\n",
       "    </tr>\n",
       "    <tr>\n",
       "      <th>1</th>\n",
       "      <td>2023-04-11T07:57:51</td>\n",
       "      <td>4683</td>\n",
       "      <td>Cash Game</td>\n",
       "      <td>74.05</td>\n",
       "    </tr>\n",
       "    <tr>\n",
       "      <th>2</th>\n",
       "      <td>2022-01-19T11:00:00</td>\n",
       "      <td>2651</td>\n",
       "      <td>Torneio</td>\n",
       "      <td>6.00</td>\n",
       "    </tr>\n",
       "    <tr>\n",
       "      <th>3</th>\n",
       "      <td>2023-03-12T13:54:40</td>\n",
       "      <td>5300</td>\n",
       "      <td>Cash Game</td>\n",
       "      <td>10.10</td>\n",
       "    </tr>\n",
       "    <tr>\n",
       "      <th>4</th>\n",
       "      <td>2022-06-07T15:52:24</td>\n",
       "      <td>3711</td>\n",
       "      <td>Cash Game</td>\n",
       "      <td>7.65</td>\n",
       "    </tr>\n",
       "    <tr>\n",
       "      <th>...</th>\n",
       "      <td>...</td>\n",
       "      <td>...</td>\n",
       "      <td>...</td>\n",
       "      <td>...</td>\n",
       "    </tr>\n",
       "    <tr>\n",
       "      <th>99995</th>\n",
       "      <td>2021-09-25T13:27:00</td>\n",
       "      <td>37868</td>\n",
       "      <td>Cash Game</td>\n",
       "      <td>6.06</td>\n",
       "    </tr>\n",
       "    <tr>\n",
       "      <th>99996</th>\n",
       "      <td>2023-05-05T22:01:48</td>\n",
       "      <td>117899</td>\n",
       "      <td>Cash Game</td>\n",
       "      <td>0.55</td>\n",
       "    </tr>\n",
       "    <tr>\n",
       "      <th>99997</th>\n",
       "      <td>2022-04-11T18:00:00</td>\n",
       "      <td>56711</td>\n",
       "      <td>Torneio</td>\n",
       "      <td>4.50</td>\n",
       "    </tr>\n",
       "    <tr>\n",
       "      <th>99998</th>\n",
       "      <td>2022-08-16T11:39:02</td>\n",
       "      <td>9777</td>\n",
       "      <td>Cash Game</td>\n",
       "      <td>6.15</td>\n",
       "    </tr>\n",
       "    <tr>\n",
       "      <th>99999</th>\n",
       "      <td>2023-03-01T20:00:00</td>\n",
       "      <td>64800</td>\n",
       "      <td>Torneio</td>\n",
       "      <td>0.10</td>\n",
       "    </tr>\n",
       "  </tbody>\n",
       "</table>\n",
       "<p>100000 rows × 4 columns</p>\n",
       "</div>"
      ],
      "text/plain": [
       "           datahora_acesso  clientes_id modalidade   rake\n",
       "0      2021-03-15T17:00:00         9467    Torneio   1.00\n",
       "1      2023-04-11T07:57:51         4683  Cash Game  74.05\n",
       "2      2022-01-19T11:00:00         2651    Torneio   6.00\n",
       "3      2023-03-12T13:54:40         5300  Cash Game  10.10\n",
       "4      2022-06-07T15:52:24         3711  Cash Game   7.65\n",
       "...                    ...          ...        ...    ...\n",
       "99995  2021-09-25T13:27:00        37868  Cash Game   6.06\n",
       "99996  2023-05-05T22:01:48       117899  Cash Game   0.55\n",
       "99997  2022-04-11T18:00:00        56711    Torneio   4.50\n",
       "99998  2022-08-16T11:39:02         9777  Cash Game   6.15\n",
       "99999  2023-03-01T20:00:00        64800    Torneio   0.10\n",
       "\n",
       "[100000 rows x 4 columns]"
      ]
     },
     "execution_count": 116,
     "metadata": {},
     "output_type": "execute_result"
    }
   ],
   "source": [
    "raw_data_table = pd.read_sql_query('SELECT * FROM raw_data ', connection)\n",
    "raw_data_table"
   ]
  }
 ],
 "metadata": {
  "kernelspec": {
   "display_name": "Python 3 (ipykernel)",
   "language": "python",
   "name": "python3"
  },
  "language_info": {
   "codemirror_mode": {
    "name": "ipython",
    "version": 3
   },
   "file_extension": ".py",
   "mimetype": "text/x-python",
   "name": "python",
   "nbconvert_exporter": "python",
   "pygments_lexer": "ipython3",
   "version": "3.9.13"
  }
 },
 "nbformat": 4,
 "nbformat_minor": 5
}
