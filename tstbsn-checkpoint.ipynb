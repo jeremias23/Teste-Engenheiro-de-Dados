{
 "cells": [
  {
   "cell_type": "code",
   "execution_count": 119,
   "id": "fe32035c",
   "metadata": {
    "scrolled": true
   },
   "outputs": [
    {
     "name": "stdout",
     "output_type": "stream",
     "text": [
      "conectado ao servidor mysql versão 5.5.5-10.5.16-MariaDB\n",
      "conectado ao banco de dados ('a4f2b49a_sample_database',)\n"
     ]
    }
   ],
   "source": [
    "import mysql.connector\n",
    "\n",
    "con = mysql.connector.connect(host='40b8f30251.nxcli.io',\n",
    "                                     database='a4f2b49a_sample_database',\n",
    "                                     user='a4f2b49a_padawan',\n",
    "                                     password= 'KaratFlanksUgliedSpinal')\n",
    "\n",
    "if con.is_connected():\n",
    " db_info = con.get_server_info()\n",
    " print(\"conectado ao servidor mysql versão\",db_info)\n",
    " cursor = con.cursor()\n",
    " cursor.execute(\"select database();\")\n",
    " linha = cursor.fetchone()\n",
    " print(\"conectado ao banco de dados\",linha)\n",
    "\n",
    "#if con.is_connected():\n",
    "# cursor.close()\n",
    " #con.close()\n",
    "# print(\"Conexão ao Mysql foi encerrada\")"
   ]
  },
  {
   "cell_type": "code",
   "execution_count": 136,
   "id": "928eaada",
   "metadata": {},
   "outputs": [
    {
     "name": "stdout",
     "output_type": "stream",
     "text": [
      "numero total de registro:  100000\n",
      "Conexão ao Mysql foi encerrada\n"
     ]
    }
   ],
   "source": [
    "import mysql.connector\n",
    "from mysql.connector import Error\n",
    "\n",
    "\n",
    "try:\n",
    "    con = mysql.connector.connect(host='40b8f30251.nxcli.io',\n",
    "                                     database='a4f2b49a_sample_database',\n",
    "                                     user='a4f2b49a_padawan',\n",
    "                                     password= 'KaratFlanksUgliedSpinal')\n",
    "\n",
    "    consulta_sql = \"select * from raw_data\"\n",
    "    cursor = con.cursor()\n",
    "    cursor.execute(consulta_sql)\n",
    "    linha = cursor.fetchall()\n",
    "    print(\"numero total de registro: \", cursor.rowcount)\n",
    "    \n",
    "    \n",
    "    \n",
    "    #print(\"\\mostrando os dados da tabela!\")\n",
    "    #for linha in linhas:\n",
    "    #    print(linha)\n",
    "        \n",
    "except Error as e:\n",
    "    print(\"Erro ao acessar tabela no mysql\",e)\n",
    "finally:\n",
    "    if (con.is_connected()):\n",
    "     cursor.close()\n",
    "     con.close()\n",
    "     print(\"Conexão ao Mysql foi encerrada\")\n",
    "    "
   ]
  },
  {
   "cell_type": "code",
   "execution_count": 120,
   "id": "bc9d8741",
   "metadata": {},
   "outputs": [
    {
     "name": "stdout",
     "output_type": "stream",
     "text": [
      "numero total de registro:  100000\n"
     ]
    }
   ],
   "source": [
    "query = \"SELECT * FROM raw_data\"\n",
    "cursor = con.cursor()\n",
    "cursor.execute(query)\n",
    "linha = cursor.fetchall()\n",
    "print(\"numero total de registro: \", cursor.rowcount)\n",
    "#print(\"numero total de registro: \", cursor.query columns)"
   ]
  },
  {
   "cell_type": "code",
   "execution_count": 121,
   "id": "b730a5b4",
   "metadata": {},
   "outputs": [
    {
     "name": "stdout",
     "output_type": "stream",
     "text": [
      "[('2021-03-15T17:00:00', 9467, 'Torneio', 1.0), ('2023-04-11T07:57:51', 4683, 'Cash Game', 74.05), ('2022-01-19T11:00:00', 2651, 'Torneio', 6.0), ('2023-03-12T13:54:40', 5300, 'Cash Game', 10.1), ('2022-06-07T15:52:24', 3711, 'Cash Game', 7.65), ('2022-01-08T12:20:17', 50907, 'Cash Game', 2.21), ('2020-12-19T18:47:00', 26729, 'Cash Game', 0.57), ('2023-01-21T14:43:39', 77882, 'Cash Game', 0.4), ('2022-06-13T08:26:17', 46609, 'Cash Game', 5.85), ('2022-07-17T21:32:26', 51223, 'Cash Game', 0.15)]\n"
     ]
    }
   ],
   "source": [
    "column = \"SELECT * FROM raw_data limit 10\"\n",
    "cursor = con.cursor()\n",
    "cursor.execute(column)\n",
    "resultados = cursor.fetchall()\n",
    "print(resultados)"
   ]
  },
  {
   "cell_type": "code",
   "execution_count": 122,
   "id": "088a5354",
   "metadata": {},
   "outputs": [
    {
     "name": "stdout",
     "output_type": "stream",
     "text": [
      " o banco de dados já existe.\n"
     ]
    }
   ],
   "source": [
    "cursor = con.cursor()\n",
    "cursor.execute(\"SHOW DATABASES LIKE'a4f2b49a_sample_database'\")\n",
    "resultado = cursor.fetchone()\n",
    "\n",
    "if resultado:\n",
    "    print(\" o banco de dados já existe.\")\n",
    "else:\n",
    "    print(\" o banco de dados ainda já existe.\")\n",
    "    cursor.execute(\"CREATE DATABASE a4f2b49a_sample_database\")\n",
    "    \n"
   ]
  },
  {
   "cell_type": "code",
   "execution_count": 134,
   "id": "b55a21e2",
   "metadata": {},
   "outputs": [
    {
     "name": "stdout",
     "output_type": "stream",
     "text": [
      "conectado ao servidor mysql versão 8.0.33\n",
      "conectado ao banco de dados ('mes_db',)\n"
     ]
    }
   ],
   "source": [
    "#BD_LoCAL\n",
    "import mysql.connector\n",
    "\n",
    "con = mysql.connector.connect(host='localhost',\n",
    "                                     database='mes_db',\n",
    "                                     user='root',\n",
    "                                     password= 'Jeremy@23@!$#')\n",
    "\n",
    "if con.is_connected():\n",
    " db_info = con.get_server_info()\n",
    " print(\"conectado ao servidor mysql versão\",db_info)\n",
    " cursor = con.cursor()\n",
    " cursor.execute(\"select database();\")\n",
    " linha = cursor.fetchone()\n",
    " print(\"conectado ao banco de dados\",linha)\n",
    "\n",
    "#if con.is_connected():\n",
    "# cursor.close()\n",
    " #con.close()\n",
    "# print(\"Conexão ao Mysql foi encerrada\")"
   ]
  },
  {
   "cell_type": "code",
   "execution_count": 135,
   "id": "5332d8c0",
   "metadata": {
    "scrolled": true
   },
   "outputs": [
    {
     "name": "stdout",
     "output_type": "stream",
     "text": [
      "tabela nva_tbl criada com sucesso!\n",
      "Conexão ao Mysql foi encerrada\n"
     ]
    }
   ],
   "source": [
    "import mysql.connector\n",
    "from mysql.connector import Error\n",
    "\n",
    "\n",
    "try:\n",
    "    con = mysql.connector.connect(host='localhost',\n",
    "                                     database='mes_db',\n",
    "                                     user='root',\n",
    "                                     password= 'Jeremy@23@!$#')\n",
    "\n",
    "    new_tbl = \"\"\"CREATE TABLE nva_tbl (mes VARCHAR(50) NOT NULL,\n",
    "                                        rake INT(11) NOT NULL,\n",
    "                                        jogadores INT(11) NOT NULL,\n",
    "                                        rake_cash_game DOUBLE NOT NULL,\n",
    "                                        rake_torneio DOUBLE NOT NULL,\n",
    "                                        jogadores_cash_game INT(11) NOT NULL,\n",
    "                                        jogadores_torneio INT(11))\"\"\"\n",
    "\n",
    "    cursor = con.cursor()\n",
    "    cursor.execute(new_tbl)\n",
    "    print(\"tabela nva_tbl criada com sucesso!\")\n",
    "\n",
    "except mysql.connector.Error as erro:\n",
    "    print(\"falha ao criar nva_tbl no mysql : {}\".format(erro))\n",
    "finally:\n",
    "    if con.is_connected():\n",
    "     cursor.close()\n",
    "     con.close()\n",
    "     print(\"Conexão ao Mysql foi encerrada\")\n",
    "    \n",
    "    \n",
    "    "
   ]
  },
  {
   "cell_type": "code",
   "execution_count": null,
   "id": "92586d16",
   "metadata": {},
   "outputs": [],
   "source": []
  }
 ],
 "metadata": {
  "kernelspec": {
   "display_name": "Python 3 (ipykernel)",
   "language": "python",
   "name": "python3"
  },
  "language_info": {
   "codemirror_mode": {
    "name": "ipython",
    "version": 3
   },
   "file_extension": ".py",
   "mimetype": "text/x-python",
   "name": "python",
   "nbconvert_exporter": "python",
   "pygments_lexer": "ipython3",
   "version": "3.9.13"
  }
 },
 "nbformat": 4,
 "nbformat_minor": 5
}
